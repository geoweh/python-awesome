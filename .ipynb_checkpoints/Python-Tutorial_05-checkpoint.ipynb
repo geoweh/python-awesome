{
 "cells": [
  {
   "cell_type": "code",
   "execution_count": 8,
   "metadata": {
    "collapsed": true
   },
   "outputs": [],
   "source": [
    "# Defining function\n",
    "# We define add function with two input a,b and later when we call add function it should print addition \n",
    "# a : Parameter\n",
    "# b : Parameter\n",
    "# C : output\n",
    "\n",
    "def add(a,b):\n",
    "    c = a + b\n",
    "    print(c)"
   ]
  },
  {
   "cell_type": "code",
   "execution_count": 9,
   "metadata": {},
   "outputs": [
    {
     "name": "stdout",
     "output_type": "stream",
     "text": [
      "9\n"
     ]
    }
   ],
   "source": [
    "# Calling the previously defined function\n",
    "\n",
    "add(4,5)"
   ]
  },
  {
   "cell_type": "code",
   "execution_count": 23,
   "metadata": {},
   "outputs": [],
   "source": [
    "def hollywood(actor,movie):\n",
    "    print (str(actor)+\" acted in the movie \"+ str(movie))"
   ]
  },
  {
   "cell_type": "code",
   "execution_count": 25,
   "metadata": {},
   "outputs": [
    {
     "name": "stdout",
     "output_type": "stream",
     "text": [
      "Gregory Peck acted in the movie To Kill a Mocking Bird\n"
     ]
    }
   ],
   "source": [
    "hollywood(\"Gregory Peck\", \"To Kill a Mocking Bird\")"
   ]
  },
  {
   "cell_type": "code",
   "execution_count": 36,
   "metadata": {},
   "outputs": [],
   "source": [
    "# Here we define a function containing return statement which returns the results\n",
    "# Return function breaks the code and returns the value back \n",
    "\n",
    "def cube(integer):\n",
    "    result = integer * integer * integer\n",
    "    return result"
   ]
  },
  {
   "cell_type": "code",
   "execution_count": 37,
   "metadata": {},
   "outputs": [
    {
     "data": {
      "text/plain": [
       "729"
      ]
     },
     "execution_count": 37,
     "metadata": {},
     "output_type": "execute_result"
    }
   ],
   "source": [
    "cube(9)"
   ]
  },
  {
   "cell_type": "code",
   "execution_count": 38,
   "metadata": {},
   "outputs": [
    {
     "name": "stdout",
     "output_type": "stream",
     "text": [
      "Watch Avengers\n"
     ]
    }
   ],
   "source": [
    "# If statement \n",
    "\n",
    "Marvel_movie = True\n",
    "\n",
    "if Marvel_movie:\n",
    "    print(\"Watch Avengers\")"
   ]
  },
  {
   "cell_type": "code",
   "execution_count": 41,
   "metadata": {},
   "outputs": [
    {
     "name": "stdout",
     "output_type": "stream",
     "text": [
      "Watch Aquaman\n"
     ]
    }
   ],
   "source": [
    "# If-else statement \n",
    "\n",
    "Marvel_movie = False\n",
    "\n",
    "if Marvel_movie:\n",
    "    print(\"Watch Avengers\")\n",
    "else:\n",
    "    print(\"Watch Aquaman\")"
   ]
  },
  {
   "cell_type": "code",
   "execution_count": 42,
   "metadata": {},
   "outputs": [
    {
     "name": "stdout",
     "output_type": "stream",
     "text": [
      " Watch Avengers and Aquaman\n"
     ]
    }
   ],
   "source": [
    "# If-else statement \n",
    "\n",
    "Marvel_movie = True\n",
    "DC_movie = True\n",
    "\n",
    "if Marvel_movie and DC_movie:\n",
    "    print(\" Watch Avengers and Aquaman\")\n",
    "else:\n",
    "    print(\"Watch Jurassic Park\")"
   ]
  },
  {
   "cell_type": "code",
   "execution_count": 45,
   "metadata": {},
   "outputs": [
    {
     "name": "stdout",
     "output_type": "stream",
     "text": [
      "Watch Doctor Strange\n"
     ]
    }
   ],
   "source": [
    "# If-else-elif statement\n",
    "# Change the boolean of Marvel_movie and DC_movie\n",
    "\n",
    "Marvel_movie = True\n",
    "DC_movie = False\n",
    "\n",
    "if Marvel_movie and DC_movie:\n",
    "    print(\"Watch Avengers and Aquaman\")\n",
    "elif Marvel_movie and not(DC_movie):\n",
    "    print(\"Watch Doctor Strange\")\n",
    "elif not(Marvel_movie) and DC_movie:\n",
    "    print(\"Watch Justice League\")\n",
    "else:\n",
    "    print(\"Watch Jurassic Park\")"
   ]
  },
  {
   "cell_type": "code",
   "execution_count": 48,
   "metadata": {
    "collapsed": true
   },
   "outputs": [],
   "source": [
    "# Comparision operators \n",
    "# Here \"=\",\"<\",\">\",\"!=\" are comparision operators \n",
    "# Compare three integers \n",
    "\n",
    "def max_num(int1,int2,int3):\n",
    "    if int1 >= int2 and int1 >= int3:\n",
    "        return int1\n",
    "    elif int2 >= int1 and int2 >= int3:\n",
    "        return int2\n",
    "    else:\n",
    "        return int3"
   ]
  },
  {
   "cell_type": "code",
   "execution_count": 50,
   "metadata": {},
   "outputs": [
    {
     "data": {
      "text/plain": [
       "8"
      ]
     },
     "execution_count": 50,
     "metadata": {},
     "output_type": "execute_result"
    }
   ],
   "source": [
    "max_num(8,6,5)"
   ]
  }
 ],
 "metadata": {
  "kernelspec": {
   "display_name": "Python 3",
   "language": "python",
   "name": "python3"
  },
  "language_info": {
   "codemirror_mode": {
    "name": "ipython",
    "version": 3
   },
   "file_extension": ".py",
   "mimetype": "text/x-python",
   "name": "python",
   "nbconvert_exporter": "python",
   "pygments_lexer": "ipython3",
   "version": "3.6.5"
  }
 },
 "nbformat": 4,
 "nbformat_minor": 2
}
