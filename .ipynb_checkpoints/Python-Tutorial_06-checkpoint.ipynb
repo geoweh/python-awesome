{
 "cells": [
  {
   "cell_type": "code",
   "execution_count": 5,
   "metadata": {},
   "outputs": [
    {
     "name": "stdout",
     "output_type": "stream",
     "text": [
      "Enter First number: 23.56\n",
      "Enter Operator: +\n",
      "Enter Second number: 56.78\n",
      "80.34\n"
     ]
    }
   ],
   "source": [
    "# Designing a Calculator \n",
    "\n",
    "int1 = float(input(\"Enter First number: \"))\n",
    "op = input(\"Enter Operator: \")\n",
    "int2 = float(input(\"Enter Second number: \"))\n",
    "\n",
    "if op == \"+\":\n",
    "    print(int1 + int2)\n",
    "elif op == \"-\":\n",
    "    print(int1 - int2)\n",
    "elif op == \"/\":\n",
    "    print(int1 / int2)\n",
    "elif op == \"*\":\n",
    "    print(int1 * int2)\n",
    "else:\n",
    "    print(\"come on I am still learning, please input only arithmetic operators\")"
   ]
  }
 ],
 "metadata": {
  "kernelspec": {
   "display_name": "Python 3",
   "language": "python",
   "name": "python3"
  },
  "language_info": {
   "codemirror_mode": {
    "name": "ipython",
    "version": 3
   },
   "file_extension": ".py",
   "mimetype": "text/x-python",
   "name": "python",
   "nbconvert_exporter": "python",
   "pygments_lexer": "ipython3",
   "version": "3.6.5"
  }
 },
 "nbformat": 4,
 "nbformat_minor": 2
}
