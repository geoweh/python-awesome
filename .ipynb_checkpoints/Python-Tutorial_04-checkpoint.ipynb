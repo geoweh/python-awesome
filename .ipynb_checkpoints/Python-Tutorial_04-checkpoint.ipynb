{
 "cells": [
  {
   "cell_type": "code",
   "execution_count": 2,
   "metadata": {},
   "outputs": [
    {
     "name": "stdout",
     "output_type": "stream",
     "text": [
      "(77.312, 33.412)\n",
      "77.312\n"
     ]
    }
   ],
   "source": [
    "# Tuple\n",
    "# Note : Tuples are immutable \n",
    "\n",
    "geo_coordinates = (77.312,33.412)\n",
    "print(geo_coordinates)\n",
    "\n",
    "# To print specific element\n",
    "print(geo_coordinates[0])"
   ]
  },
  {
   "cell_type": "code",
   "execution_count": 3,
   "metadata": {},
   "outputs": [
    {
     "name": "stdout",
     "output_type": "stream",
     "text": [
      "[(77, 33), (44, 55), (66, 77), (88, 99)]\n"
     ]
    }
   ],
   "source": [
    "# Tuples inside list \n",
    "\n",
    "geo_coordinates = [(77,33),(44,55),(66,77),(88,99)]\n",
    "print(geo_coordinates)"
   ]
  }
 ],
 "metadata": {
  "kernelspec": {
   "display_name": "Python 3",
   "language": "python",
   "name": "python3"
  },
  "language_info": {
   "codemirror_mode": {
    "name": "ipython",
    "version": 3
   },
   "file_extension": ".py",
   "mimetype": "text/x-python",
   "name": "python",
   "nbconvert_exporter": "python",
   "pygments_lexer": "ipython3",
   "version": "3.6.5"
  }
 },
 "nbformat": 4,
 "nbformat_minor": 2
}
