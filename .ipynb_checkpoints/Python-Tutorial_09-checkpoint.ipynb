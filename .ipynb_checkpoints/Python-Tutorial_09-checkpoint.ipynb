{
 "cells": [
  {
   "cell_type": "code",
   "execution_count": 1,
   "metadata": {},
   "outputs": [
    {
     "name": "stdout",
     "output_type": "stream",
     "text": [
      "S\n",
      "c\n",
      "h\n",
      "i\n",
      "n\n",
      "d\n",
      "l\n",
      "e\n",
      "r\n",
      " \n",
      "L\n",
      "i\n",
      "s\n",
      "t\n"
     ]
    }
   ],
   "source": [
    "# For loop\n",
    "\n",
    "for i in \"Schindler List\":\n",
    "    print(i)"
   ]
  },
  {
   "cell_type": "code",
   "execution_count": 3,
   "metadata": {},
   "outputs": [
    {
     "name": "stdout",
     "output_type": "stream",
     "text": [
      "Tom Cruise\n",
      "Leonardo Di Caprio\n",
      "Jennifer Lawrence\n",
      "Natalie Portman\n"
     ]
    }
   ],
   "source": [
    "celebrity = [\"Tom Cruise\",\"Leonardo Di Caprio\",\"Jennifer Lawrence\",\"Natalie Portman\"]\n",
    "\n",
    "for actors in celebrity:\n",
    "    print(actors)"
   ]
  },
  {
   "cell_type": "code",
   "execution_count": 4,
   "metadata": {
    "collapsed": true
   },
   "outputs": [],
   "source": [
    "# Writing a exponent function using for loop\n",
    "\n",
    "def exponent(int_num,power):\n",
    "    result = 1\n",
    "    for i in range(power):\n",
    "        result = result * int_num\n",
    "    return result"
   ]
  },
  {
   "cell_type": "code",
   "execution_count": 6,
   "metadata": {},
   "outputs": [
    {
     "data": {
      "text/plain": [
       "15625"
      ]
     },
     "execution_count": 6,
     "metadata": {},
     "output_type": "execute_result"
    }
   ],
   "source": [
    "exponent(5,6)"
   ]
  }
 ],
 "metadata": {
  "kernelspec": {
   "display_name": "Python 3",
   "language": "python",
   "name": "python3"
  },
  "language_info": {
   "codemirror_mode": {
    "name": "ipython",
    "version": 3
   },
   "file_extension": ".py",
   "mimetype": "text/x-python",
   "name": "python",
   "nbconvert_exporter": "python",
   "pygments_lexer": "ipython3",
   "version": "3.6.5"
  }
 },
 "nbformat": 4,
 "nbformat_minor": 2
}
