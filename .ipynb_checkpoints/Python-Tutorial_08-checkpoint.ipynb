{
 "cells": [
  {
   "cell_type": "code",
   "execution_count": 5,
   "metadata": {},
   "outputs": [
    {
     "name": "stdout",
     "output_type": "stream",
     "text": [
      "0\n",
      "2.5\n",
      "5.0\n",
      "7.5\n",
      "10.0\n",
      "12.5\n",
      "15.0\n",
      "17.5\n",
      "20.0\n",
      "22.5\n",
      "25.0\n",
      "27.5\n",
      "30.0\n",
      "32.5\n",
      "35.0\n",
      "37.5\n",
      "40.0\n",
      "42.5\n",
      "45.0\n",
      "47.5\n",
      "50.0\n",
      "Program completed\n"
     ]
    }
   ],
   "source": [
    "# While loop \n",
    "\n",
    "i = 0\n",
    "while i <= 50:\n",
    "    print(i)\n",
    "    i += 2.5\n",
    "    \n",
    "print(\"Program completed\")"
   ]
  },
  {
   "cell_type": "code",
   "execution_count": 7,
   "metadata": {},
   "outputs": [
    {
     "name": "stdin",
     "output_type": "stream",
     "text": [
      "Enter answer:  Python\n"
     ]
    },
    {
     "name": "stdout",
     "output_type": "stream",
     "text": [
      "You won!\n"
     ]
    }
   ],
   "source": [
    "# Find the secret word, interact with the program until you find the secret word\n",
    "\n",
    "answer = \"Python\"\n",
    "meta = \"\"\n",
    "chance = 0\n",
    "chance_limit = 3\n",
    "guess = False\n",
    "                    \n",
    "while meta != answer and not(guess):\n",
    "    if chance < chance_limit:\n",
    "        meta = input(\"Enter answer: \")\n",
    "        chance += 1\n",
    "    else:\n",
    "         guess = True\n",
    "\n",
    "if guess:\n",
    "    print(\"You have run out of chances\")\n",
    "else:\n",
    "     print(\"You won!\")"
   ]
  },
  {
   "cell_type": "code",
   "execution_count": null,
   "metadata": {},
   "outputs": [],
   "source": []
  }
 ],
 "metadata": {
  "kernelspec": {
   "display_name": "Python 3 (ipykernel)",
   "language": "python",
   "name": "python3"
  },
  "language_info": {
   "codemirror_mode": {
    "name": "ipython",
    "version": 3
   },
   "file_extension": ".py",
   "mimetype": "text/x-python",
   "name": "python",
   "nbconvert_exporter": "python",
   "pygments_lexer": "ipython3",
   "version": "3.11.1"
  }
 },
 "nbformat": 4,
 "nbformat_minor": 4
}
