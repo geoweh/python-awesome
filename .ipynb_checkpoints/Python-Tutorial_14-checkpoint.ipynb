{
 "cells": [
  {
   "cell_type": "code",
   "execution_count": 1,
   "metadata": {},
   "outputs": [
    {
     "name": "stdout",
     "output_type": "stream",
     "text": [
      "Wall-E\n",
      "Pixar\n",
      "\n",
      "BB-8\n",
      "Star Wars\n"
     ]
    }
   ],
   "source": [
    "# Classes and Objects\n",
    "# We create a class file named Robot.py and initialize a function with various attributes\n",
    "# We then create an object file here as shown below\n",
    "# Classes are used to create an overall template and objects are used to create an actual attribute\n",
    "# Create an Object using Class, we import a class file created using Robot.py python file\n",
    "\n",
    "from Robot import Robot\n",
    "\n",
    "robot1 = Robot(\"Wall-E\",\"Acting\",\"Pixar\", True, 8)\n",
    "robot2 = Robot(\"BB-8\",\"Acting\",\"Star Wars\", True, 9)\n",
    "\n",
    "print(robot1.name)\n",
    "print(robot1.company)\n",
    "print(\"\")\n",
    "print(robot2.name)\n",
    "print(robot2.company)"
   ]
  },
  {
   "cell_type": "code",
   "execution_count": null,
   "metadata": {
    "collapsed": true
   },
   "outputs": [],
   "source": []
  }
 ],
 "metadata": {
  "kernelspec": {
   "display_name": "Python 3",
   "language": "python",
   "name": "python3"
  },
  "language_info": {
   "codemirror_mode": {
    "name": "ipython",
    "version": 3
   },
   "file_extension": ".py",
   "mimetype": "text/x-python",
   "name": "python",
   "nbconvert_exporter": "python",
   "pygments_lexer": "ipython3",
   "version": "3.6.5"
  }
 },
 "nbformat": 4,
 "nbformat_minor": 2
}
