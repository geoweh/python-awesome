{
 "cells": [
  {
   "cell_type": "code",
   "execution_count": 5,
   "metadata": {},
   "outputs": [
    {
     "name": "stdout",
     "output_type": "stream",
     "text": [
      "Enter your name: Alex\n",
      "Enter your age: 10\n",
      "Hi Alex, You are 10, How are you doing ?\n"
     ]
    }
   ],
   "source": [
    "# Giving Raw input \n",
    "name = input(\"Enter your name: \")\n",
    "age = input(\"Enter your age: \")\n",
    "print(\"Hi \" + name + \", You are \"+age+\", How are you doing ?\")"
   ]
  },
  {
   "cell_type": "code",
   "execution_count": 7,
   "metadata": {},
   "outputs": [
    {
     "name": "stdout",
     "output_type": "stream",
     "text": [
      "Enter a number_1 :34\n",
      "Enter a number_2 :45\n",
      "79\n"
     ]
    }
   ],
   "source": [
    "# Adding numbers\n",
    "# Note : You have to mention the input is real number in python i.e you have to convert the input\n",
    "# which is considered as strings to number\n",
    "\n",
    "num_1 = input(\"Enter a number_1 :\")\n",
    "num_2 = input(\"Enter a number_2 :\")\n",
    "\n",
    "# Convert to number\n",
    "result = int(num_1) + int(num_2)\n",
    "print(result)"
   ]
  },
  {
   "cell_type": "code",
   "execution_count": 8,
   "metadata": {},
   "outputs": [
    {
     "name": "stdout",
     "output_type": "stream",
     "text": [
      "Enter a number_1 :65.56\n",
      "Enter a number_2 :5.34\n",
      "70.9\n"
     ]
    }
   ],
   "source": [
    "# Adding decimal numbers\n",
    "# Note : You have to mention the input is real number in python i.e you have to convert the input\n",
    "# which is considered as strings to number\n",
    "\n",
    "num_1 = input(\"Enter a number_1 :\")\n",
    "num_2 = input(\"Enter a number_2 :\")\n",
    "\n",
    "# Convert to float for using decimal\n",
    "result = float(num_1) + float(num_2)\n",
    "print(result)"
   ]
  }
 ],
 "metadata": {
  "kernelspec": {
   "display_name": "Python 3",
   "language": "python",
   "name": "python3"
  },
  "language_info": {
   "codemirror_mode": {
    "name": "ipython",
    "version": 3
   },
   "file_extension": ".py",
   "mimetype": "text/x-python",
   "name": "python",
   "nbconvert_exporter": "python",
   "pygments_lexer": "ipython3",
   "version": "3.6.5"
  }
 },
 "nbformat": 4,
 "nbformat_minor": 2
}
