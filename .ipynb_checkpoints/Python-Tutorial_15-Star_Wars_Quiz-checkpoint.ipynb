{
 "cells": [
  {
   "cell_type": "code",
   "execution_count": 15,
   "metadata": {},
   "outputs": [],
   "source": [
    "# Building a Star Wars Quiz using what all we have learnt \n",
    "# We need to create a question class which we have done in Quiz.py file \n",
    "\n",
    "from Quiz import Question\n",
    "question_prompt = [\n",
    "    \"What species is Jabba?\\n(a) Ithorian\\n(b) Jawa\\n(c) Jenet\\n(d) Hutt\\n\\n\",\n",
    "    \"Which order brought about the death of the Jedi?\\n(a) Order55\\n(b) Order66\\n(c) Order77\\n(d) Order88\\n\\n\",\n",
    "    \"On which planet do we first meet Rey in The Force Awakens?\\n(a) Farlax\\n(b) Tatooine\\n(c) Dantooine\\n(d) Jakku\\n\\n\"\n",
    "]\n",
    "\n",
    "questions = [\n",
    "    Question(question_prompt[0], \"d\"),\n",
    "    Question(question_prompt[1], \"b\"),\n",
    "    Question(question_prompt[2], \"d\")\n",
    "]"
   ]
  },
  {
   "cell_type": "code",
   "execution_count": 18,
   "metadata": {
    "collapsed": true
   },
   "outputs": [],
   "source": [
    "def test(questions):\n",
    "    correct_answers = 0\n",
    "    for question in questions:\n",
    "        answer = input(question.prompt)\n",
    "        if answer == question.answer:\n",
    "            correct_answers += 1\n",
    "        print(\"\\nOnly \"+str(correct_answers)+\"/\"+str(len(questions))+\" Correct\")"
   ]
  },
  {
   "cell_type": "code",
   "execution_count": 19,
   "metadata": {},
   "outputs": [
    {
     "name": "stdout",
     "output_type": "stream",
     "text": [
      "What species is Jabba?\n",
      "(a) Ithorian\n",
      "(b) Jawa\n",
      "(c) Jenet\n",
      "(d) Hutt\n",
      "\n",
      "d\n",
      "\n",
      "Only 1/3 Correct\n",
      "Which order brought about the death of the Jedi?\n",
      "(a) Order55\n",
      "(b) Order66\n",
      "(c) Order77\n",
      "(d) Order88\n",
      "\n",
      "b\n",
      "\n",
      "Only 2/3 Correct\n",
      "On which planet do we first meet Rey in The Force Awakens?\n",
      "(a) Farlax\n",
      "(b) Tatooine\n",
      "(c) Dantooine\n",
      "(d) Jakku\n",
      "\n",
      "d\n",
      "\n",
      "Only 3/3 Correct\n"
     ]
    }
   ],
   "source": [
    "test(questions)"
   ]
  },
  {
   "cell_type": "code",
   "execution_count": null,
   "metadata": {
    "collapsed": true
   },
   "outputs": [],
   "source": []
  }
 ],
 "metadata": {
  "kernelspec": {
   "display_name": "Python 3",
   "language": "python",
   "name": "python3"
  },
  "language_info": {
   "codemirror_mode": {
    "name": "ipython",
    "version": 3
   },
   "file_extension": ".py",
   "mimetype": "text/x-python",
   "name": "python",
   "nbconvert_exporter": "python",
   "pygments_lexer": "ipython3",
   "version": "3.6.5"
  }
 },
 "nbformat": 4,
 "nbformat_minor": 2
}
