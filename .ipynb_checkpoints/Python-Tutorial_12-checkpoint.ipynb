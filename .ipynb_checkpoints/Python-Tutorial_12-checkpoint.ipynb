{
 "cells": [
  {
   "cell_type": "code",
   "execution_count": 10,
   "metadata": {},
   "outputs": [
    {
     "name": "stdout",
     "output_type": "stream",
     "text": [
      "True\n",
      "Morgan Freeman - Shashawnk Redemption\n",
      "Robert Downy Jr. - Iron Man\n",
      "Russel Crowe - A Beautiful Mind \n",
      "Gergory Peck - To Kill a Mocking Bird\n",
      "\n",
      "\n"
     ]
    }
   ],
   "source": [
    "# Handling files\n",
    "# \"w\" refers to write\n",
    "# \"a\" refers to add i.e you can append information\n",
    "# \"r\" refers to read\n",
    "# \"r+\" read and write \n",
    "# Note : After you open a file you need to close it \n",
    "\n",
    "movie_directory = open(\"movies.txt\",\"r\")\n",
    "\n",
    "# To know whether the text file is readable \n",
    "print(movie_directory.readable())\n",
    "\n",
    "# Print the data in the file\n",
    "print(movie_directory.read())\n",
    "\n",
    "# To read individual file \n",
    "print(movie_directory.readline())\n",
    "# To read the second line \n",
    "print(movie_directory.readline())\n",
    "\n",
    "# To read all the line and put into an array\n",
    "\n",
    "movie_directory.close()"
   ]
  },
  {
   "cell_type": "code",
   "execution_count": 8,
   "metadata": {},
   "outputs": [
    {
     "name": "stdout",
     "output_type": "stream",
     "text": [
      "['Morgan Freeman - Shashawnk Redemption\\n', 'Robert Downy Jr. - Iron Man\\n', 'Russel Crowe - A Beautiful Mind \\n']\n"
     ]
    }
   ],
   "source": [
    "# Convert the movie.txt file into array \n",
    "\n",
    "movie_directory = open(\"movies.txt\",\"r\")\n",
    "print(movie_directory.readlines())\n",
    "movie_directory.close()"
   ]
  },
  {
   "cell_type": "code",
   "execution_count": 9,
   "metadata": {},
   "outputs": [],
   "source": [
    "# Appending data to file\n",
    "# Note : Be careful, if you run append program multiple times, it keeps adding the data that you are writing multiple times\n",
    "# Use escape characters to insert data into next line\n",
    "# If you use \"w\" it will replace the entire data into your text file with the new data your writing into the file\n",
    "\n",
    "movie_directory = open(\"movies.txt\",\"a\")\n",
    "movie_directory.write(\"Gergory Peck - To Kill a Mocking Bird\")\n",
    "movie_directory.close()"
   ]
  },
  {
   "cell_type": "code",
   "execution_count": 6,
   "metadata": {},
   "outputs": [],
   "source": [
    "# Schritt 1: Lese die Datei und speichere den Inhalt\n",
    "with open(\"movies.txt\", \"r\") as file:\n",
    "    lines = file.readlines()\n",
    "\n",
    "# Schritt 2: Entferne die Zeile, die gelöscht werden soll\n",
    "# Angenommen, wir möchten die Zeile löschen, die den Text \"Der zu löschende Film\" enthält\n",
    "lines = [line for line in lines if \"Gergory Peck - To Kill a Mocking Bird\" not in line]\n",
    "\n",
    "# Schritt 3: Schreibe den geänderten Inhalt zurück in die Datei\n",
    "with open(\"movies.txt\", \"w\") as file:\n",
    "    file.writelines(lines)\n"
   ]
  },
  {
   "cell_type": "code",
   "execution_count": null,
   "metadata": {},
   "outputs": [],
   "source": []
  }
 ],
 "metadata": {
  "kernelspec": {
   "display_name": "Python 3 (ipykernel)",
   "language": "python",
   "name": "python3"
  },
  "language_info": {
   "codemirror_mode": {
    "name": "ipython",
    "version": 3
   },
   "file_extension": ".py",
   "mimetype": "text/x-python",
   "name": "python",
   "nbconvert_exporter": "python",
   "pygments_lexer": "ipython3",
   "version": "3.11.1"
  }
 },
 "nbformat": 4,
 "nbformat_minor": 4
}
