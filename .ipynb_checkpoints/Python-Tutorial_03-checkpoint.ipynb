{
 "cells": [
  {
   "cell_type": "code",
   "execution_count": 2,
   "metadata": {},
   "outputs": [
    {
     "name": "stdout",
     "output_type": "stream",
     "text": [
      "['Tom Cruise', 'Leonardo Di Caprio', 'Jennifer Lawrence', 'Natalie Portman']\n"
     ]
    }
   ],
   "source": [
    "# Creating List\n",
    "\n",
    "celebrity = [\"Tom Cruise\",\"Leonardo Di Caprio\",\"Jennifer Lawrence\",\"Natalie Portman\"]\n",
    "print(celebrity)"
   ]
  },
  {
   "cell_type": "code",
   "execution_count": 4,
   "metadata": {},
   "outputs": [
    {
     "name": "stdout",
     "output_type": "stream",
     "text": [
      "Tom Cruise\n",
      "Natalie Portman\n"
     ]
    }
   ],
   "source": [
    "# Printing a particular name\n",
    "\n",
    "print(celebrity[0])\n",
    "print(celebrity[3])"
   ]
  },
  {
   "cell_type": "code",
   "execution_count": 6,
   "metadata": {},
   "outputs": [
    {
     "name": "stdout",
     "output_type": "stream",
     "text": [
      "Natalie Portman\n"
     ]
    }
   ],
   "source": [
    "# printing the last name \n",
    "\n",
    "print(celebrity[-1])"
   ]
  },
  {
   "cell_type": "code",
   "execution_count": 9,
   "metadata": {},
   "outputs": [
    {
     "name": "stdout",
     "output_type": "stream",
     "text": [
      "['Leonardo Di Caprio', 'Jennifer Lawrence', 'Natalie Portman']\n",
      "['Leonardo Di Caprio', 'Jennifer Lawrence']\n"
     ]
    }
   ],
   "source": [
    "# Printing names together\n",
    "\n",
    "print(celebrity[1:])\n",
    "print(celebrity[1:3])"
   ]
  },
  {
   "cell_type": "code",
   "execution_count": 10,
   "metadata": {},
   "outputs": [
    {
     "name": "stdout",
     "output_type": "stream",
     "text": [
      "['Tom Cruise', 'Morgan Freeman', 'Jennifer Lawrence', 'Natalie Portman']\n"
     ]
    }
   ],
   "source": [
    "# Modifying names\n",
    "\n",
    "celebrity[1] = \"Morgan Freeman\"\n",
    "print(celebrity)"
   ]
  },
  {
   "cell_type": "code",
   "execution_count": 11,
   "metadata": {},
   "outputs": [
    {
     "name": "stdout",
     "output_type": "stream",
     "text": [
      "['Tom Cruise', 'Morgan Freeman', 'Jennifer Lawrence', 'Natalie Portman', 'Mission Impossible', 'Shashawnk Redemption', 'X-Men', 'Star Wars']\n"
     ]
    }
   ],
   "source": [
    "# Merging list\n",
    "\n",
    "movies = [\"Mission Impossible\",\"Shashawnk Redemption\", \"X-Men\",\"Star Wars\"]\n",
    "celebrity.extend(movies)\n",
    "print(celebrity)"
   ]
  },
  {
   "cell_type": "code",
   "execution_count": 14,
   "metadata": {},
   "outputs": [
    {
     "name": "stdout",
     "output_type": "stream",
     "text": [
      "['Tom Cruise', 'Tom Hanks', 'Tom Hanks', 'Morgan Freeman', 'Jennifer Lawrence', 'Natalie Portman', 'Mission Impossible', 'Shashawnk Redemption', 'X-Men', 'Star Wars']\n"
     ]
    }
   ],
   "source": [
    "# Insert new name\n",
    "celebrity.insert(1,\"Tom Hanks\")\n",
    "print(celebrity)"
   ]
  },
  {
   "cell_type": "code",
   "execution_count": 16,
   "metadata": {},
   "outputs": [
    {
     "name": "stdout",
     "output_type": "stream",
     "text": [
      "['Tom Cruise', 'Morgan Freeman', 'Jennifer Lawrence', 'Natalie Portman', 'Mission Impossible', 'Shashawnk Redemption', 'X-Men', 'Star Wars']\n"
     ]
    }
   ],
   "source": [
    "# Remove name \n",
    "celebrity.remove(\"Tom Hanks\")\n",
    "print(celebrity)"
   ]
  },
  {
   "cell_type": "code",
   "execution_count": 17,
   "metadata": {},
   "outputs": [
    {
     "name": "stdout",
     "output_type": "stream",
     "text": [
      "['Tom Cruise', 'Morgan Freeman', 'Jennifer Lawrence', 'Natalie Portman', 'Mission Impossible', 'Shashawnk Redemption', 'X-Men', 'Star Wars', 'To Kill a Mocking Bird']\n"
     ]
    }
   ],
   "source": [
    "# Appending name \n",
    "celebrity.append(\"To Kill a Mocking Bird\")\n",
    "print(celebrity)"
   ]
  },
  {
   "cell_type": "code",
   "execution_count": 18,
   "metadata": {},
   "outputs": [
    {
     "name": "stdout",
     "output_type": "stream",
     "text": [
      "['Tom Cruise', 'Morgan Freeman', 'Jennifer Lawrence', 'Natalie Portman', 'Mission Impossible', 'Shashawnk Redemption', 'X-Men', 'Star Wars']\n"
     ]
    }
   ],
   "source": [
    "# Pop\n",
    "# Removes an element\n",
    "celebrity.pop()\n",
    "print(celebrity)"
   ]
  },
  {
   "cell_type": "code",
   "execution_count": 20,
   "metadata": {},
   "outputs": [
    {
     "name": "stdout",
     "output_type": "stream",
     "text": [
      "7\n"
     ]
    }
   ],
   "source": [
    "# Check if names exists\n",
    "print(celebrity.index(\"Star Wars\"))"
   ]
  },
  {
   "cell_type": "code",
   "execution_count": 21,
   "metadata": {},
   "outputs": [
    {
     "name": "stdout",
     "output_type": "stream",
     "text": [
      "2\n"
     ]
    }
   ],
   "source": [
    "# Count the number of same name\n",
    "\n",
    "# First will add same name i.e append\n",
    "celebrity.append(\"Morgan Freeman\")\n",
    "print(celebrity.count(\"Morgan Freeman\"))"
   ]
  },
  {
   "cell_type": "code",
   "execution_count": 23,
   "metadata": {},
   "outputs": [
    {
     "name": "stdout",
     "output_type": "stream",
     "text": [
      "['Jennifer Lawrence', 'Mission Impossible', 'Morgan Freeman', 'Morgan Freeman', 'Natalie Portman', 'Shashawnk Redemption', 'Star Wars', 'Tom Cruise', 'X-Men']\n"
     ]
    }
   ],
   "source": [
    "# Sort alphabetically\n",
    "\n",
    "celebrity.sort()\n",
    "print(celebrity)"
   ]
  },
  {
   "cell_type": "code",
   "execution_count": 24,
   "metadata": {},
   "outputs": [
    {
     "name": "stdout",
     "output_type": "stream",
     "text": [
      "['X-Men', 'Tom Cruise', 'Star Wars', 'Shashawnk Redemption', 'Natalie Portman', 'Morgan Freeman', 'Morgan Freeman', 'Mission Impossible', 'Jennifer Lawrence']\n"
     ]
    }
   ],
   "source": [
    "# Reverse list\n",
    "\n",
    "celebrity.reverse()\n",
    "print(celebrity)"
   ]
  },
  {
   "cell_type": "code",
   "execution_count": 25,
   "metadata": {},
   "outputs": [
    {
     "name": "stdout",
     "output_type": "stream",
     "text": [
      "['X-Men', 'Tom Cruise', 'Star Wars', 'Shashawnk Redemption', 'Natalie Portman', 'Morgan Freeman', 'Morgan Freeman', 'Mission Impossible', 'Jennifer Lawrence']\n"
     ]
    }
   ],
   "source": [
    "# Copy list\n",
    "\n",
    "celebrity_copy = celebrity.copy()\n",
    "print(celebrity_copy)"
   ]
  }
 ],
 "metadata": {
  "kernelspec": {
   "display_name": "Python 3",
   "language": "python",
   "name": "python3"
  },
  "language_info": {
   "codemirror_mode": {
    "name": "ipython",
    "version": 3
   },
   "file_extension": ".py",
   "mimetype": "text/x-python",
   "name": "python",
   "nbconvert_exporter": "python",
   "pygments_lexer": "ipython3",
   "version": "3.6.5"
  }
 },
 "nbformat": 4,
 "nbformat_minor": 2
}
