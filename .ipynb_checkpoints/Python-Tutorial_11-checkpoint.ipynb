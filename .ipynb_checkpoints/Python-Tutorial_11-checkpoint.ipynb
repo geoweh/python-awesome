{
 "cells": [
  {
   "cell_type": "code",
   "execution_count": 10,
   "metadata": {
    "collapsed": true
   },
   "outputs": [],
   "source": [
    "# Desiging a a naive encryption program\n",
    "\n",
    "def encrypt(word):\n",
    "    decrypt = \"\"\n",
    "    for letter in word:\n",
    "        if letter.upper() in \"AEIOU\":\n",
    "            if letter.isupper():\n",
    "                decrypt = decrypt + \"G\"\n",
    "            else:\n",
    "                decrypt = decrypt + \"g\"\n",
    "        else:\n",
    "            decrypt = decrypt + letter\n",
    "    \n",
    "    return decrypt"
   ]
  },
  {
   "cell_type": "code",
   "execution_count": 11,
   "metadata": {},
   "outputs": [
    {
     "name": "stdout",
     "output_type": "stream",
     "text": [
      "Enter a word: Exam\n",
      "Gxgm\n"
     ]
    }
   ],
   "source": [
    "print(encrypt(input(\"Enter a word: \")))"
   ]
  },
  {
   "cell_type": "code",
   "execution_count": 14,
   "metadata": {},
   "outputs": [
    {
     "name": "stdout",
     "output_type": "stream",
     "text": [
      "Enter a number: 3.34\n",
      "Invalid Input\n"
     ]
    }
   ],
   "source": [
    "# Using except keyword in python\n",
    "# To catch specific errors, use things like valuerror, zerodivisionerror etc so that you can narrow down the possiblity\n",
    "# of an error\n",
    "\n",
    "try:\n",
    "    integer = int(input(\"Enter a number: \"))\n",
    "    print(integer)\n",
    "except ValueError:\n",
    "    print(\"Invalid Input\")\n",
    "except ZeroDivisionError:\n",
    "    print(\"Invalid\")\n",
    "    "
   ]
  }
 ],
 "metadata": {
  "kernelspec": {
   "display_name": "Python 3",
   "language": "python",
   "name": "python3"
  },
  "language_info": {
   "codemirror_mode": {
    "name": "ipython",
    "version": 3
   },
   "file_extension": ".py",
   "mimetype": "text/x-python",
   "name": "python",
   "nbconvert_exporter": "python",
   "pygments_lexer": "ipython3",
   "version": "3.6.5"
  }
 },
 "nbformat": 4,
 "nbformat_minor": 2
}
