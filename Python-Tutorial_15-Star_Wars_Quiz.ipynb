{
 "cells": [
  {
   "cell_type": "code",
   "execution_count": 5,
   "metadata": {},
   "outputs": [],
   "source": [
    "# Importiert die Klasse 'Question' aus der Datei 'Quiz.py'.\n",
    "# Diese Klasse wird verwendet, um Fragen im Quiz zu repräsentieren, wobei jede Frage\n",
    "# einen Text (die eigentliche Frage) und die richtige Antwort enthält.\n",
    "from Quiz import Question\n",
    "\n",
    "# Eine Liste von Strings, die die Fragen und die Antwortmöglichkeiten enthält.\n",
    "# Jeder String stellt eine Frage dar, gefolgt von vier Antwortmöglichkeiten (a, b, c, d),\n",
    "# und endet mit zwei Zeilenumbrüchen für eine übersichtliche Formatierung.\n",
    "question_prompt = [\n",
    "    \"What species is Jabba?\\n(a) Ithorian\\n(b) Jawa\\n(c) Jenet\\n(d) Hutt\\n\\n\",\n",
    "    \"Which order brought about the death of the Jedi?\\n(a) Order55\\n(b) Order66\\n(c) Order77\\n(d) Order88\\n\\n\",\n",
    "    \"On which planet do we first meet Rey in The Force Awakens?\\n(a) Farlax\\n(b) Tatooine\\n(c) Dantooine\\n(d) Jakku\\n\\n\"\n",
    "]\n",
    "\n",
    "# Erstellt eine Liste von 'Question'-Objekten. Jedes Objekt repräsentiert eine Frage\n",
    "# im Quiz. Beim Erstellen jedes 'Question'-Objekts wird ein String aus der 'question_prompt'-Liste\n",
    "# als Frage (prompt) und ein Buchstabe ('d' oder 'b') als Antwort übergeben.\n",
    "questions = [\n",
    "    Question(question_prompt[0], \"d\"),  # Die Antwort auf die erste Frage ist 'd' (Hutt).\n",
    "    Question(question_prompt[1], \"b\"),  # Die Antwort auf die zweite Frage ist 'b' (Order66).\n",
    "    Question(question_prompt[2], \"d\")   # Die Antwort auf die dritte Frage ist 'd' (Jakku).\n",
    "]\n",
    "\n",
    "# An dieser Stelle im Code würden Sie normalerweise Funktionen definieren oder aufrufen,\n",
    "# die diese 'questions'-Liste verwenden, um das Quiz durchzuführen. Zum Beispiel könnte\n",
    "# eine Funktion die Fragen nacheinander anzeigen und den Benutzer um eine Antwort bitten,\n",
    "# dann überprüfen, ob die Antwort korrekt ist, und schließlich die Gesamtpunktzahl ausgeben.\n"
   ]
  },
  {
   "cell_type": "code",
   "execution_count": 11,
   "metadata": {},
   "outputs": [],
   "source": [
    "# Definiert eine Funktion namens 'test', die eine Liste von 'Question'-Objekten als Argument nimmt.\n",
    "# Diese Funktion ist verantwortlich für die Durchführung des Quiz.\n",
    "def test(questions):\n",
    "    # Initialisiert eine Variable, um die Anzahl der korrekten Antworten zu zählen.\n",
    "    correct_answers = 0\n",
    "    \n",
    "    # Durchläuft jede Frage in der Liste 'questions'.\n",
    "    for question in questions:\n",
    "        # Fragt den Benutzer nach einer Antwort. 'question.prompt' enthält den Text der Frage\n",
    "        # und die Antwortmöglichkeiten. Die Antwort des Benutzers wird in der Variable 'answer' gespeichert.\n",
    "        answer = input(question.prompt)\n",
    "        \n",
    "        # Überprüft, ob die Antwort des Benutzers mit der korrekten Antwort der Frage übereinstimmt.\n",
    "        # 'question.answer' enthält den Buchstaben der richtigen Antwort.\n",
    "        if answer == question.answer:\n",
    "            # Wenn die Antwort korrekt ist, erhöht sich die Anzahl der korrekten Antworten um 1.\n",
    "            correct_answers += 1\n",
    "        \n",
    "        # Gibt nach jeder Frage die aktuelle Anzahl der korrekten Antworten aus,\n",
    "        # zusammen mit der Gesamtanzahl der Fragen, um den Fortschritt anzuzeigen.\n",
    "        # 'str(correct_answers)' und 'str(len(questions))' wandeln die Zahlen in Strings um,\n",
    "        # damit sie zusammen mit dem Text ausgegeben werden können.\n",
    "        print(\"\\nOnly \"+str(correct_answers)+\"/\"+str(len(questions))+\" Correct\")\n",
    "        print(question.answer)\n",
    "\n",
    "# Die Funktion 'test' kann nun mit einer Liste von 'Question'-Objekten aufgerufen werden,\n",
    "# um das Quiz durchzuführen. Zum Beispiel: test(questions)\n"
   ]
  },
  {
   "cell_type": "code",
   "execution_count": null,
   "metadata": {},
   "outputs": [
    {
     "name": "stdin",
     "output_type": "stream",
     "text": [
      "What species is Jabba?\n",
      "(a) Ithorian\n",
      "(b) Jawa\n",
      "(c) Jenet\n",
      "(d) Hutt\n",
      "\n",
      " d\n"
     ]
    },
    {
     "name": "stdout",
     "output_type": "stream",
     "text": [
      "\n",
      "Only 1/3 Correct\n",
      "d\n"
     ]
    },
    {
     "name": "stdin",
     "output_type": "stream",
     "text": [
      "Which order brought about the death of the Jedi?\n",
      "(a) Order55\n",
      "(b) Order66\n",
      "(c) Order77\n",
      "(d) Order88\n",
      "\n",
      " c\n"
     ]
    },
    {
     "name": "stdout",
     "output_type": "stream",
     "text": [
      "\n",
      "Only 1/3 Correct\n",
      "b\n"
     ]
    }
   ],
   "source": [
    "test(questions)"
   ]
  },
  {
   "cell_type": "code",
   "execution_count": null,
   "metadata": {
    "collapsed": true,
    "jupyter": {
     "outputs_hidden": true
    }
   },
   "outputs": [],
   "source": []
  }
 ],
 "metadata": {
  "kernelspec": {
   "display_name": "Python 3 (ipykernel)",
   "language": "python",
   "name": "python3"
  },
  "language_info": {
   "codemirror_mode": {
    "name": "ipython",
    "version": 3
   },
   "file_extension": ".py",
   "mimetype": "text/x-python",
   "name": "python",
   "nbconvert_exporter": "python",
   "pygments_lexer": "ipython3",
   "version": "3.11.1"
  }
 },
 "nbformat": 4,
 "nbformat_minor": 4
}
