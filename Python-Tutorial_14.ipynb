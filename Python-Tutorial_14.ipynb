{
 "cells": [
  {
   "cell_type": "code",
   "execution_count": 1,
   "metadata": {},
   "outputs": [
    {
     "name": "stdout",
     "output_type": "stream",
     "text": [
      "Wall-E\n",
      "Pixar\n",
      "\n",
      "BB-8\n",
      "Star Wars\n"
     ]
    }
   ],
   "source": [
    "# Classes and Objects\n",
    "# We create a class file named Robot.py and initialize a function with various attributes\n",
    "# We then create an object file here as shown below\n",
    "# Classes are used to create an overall template and objects are used to create an actual attribute\n",
    "# Create an Object using Class, we import a class file created using Robot.py python file\n",
    "\n",
    "from Robot import Robot\n",
    "\n",
    "# Erstelle zwei Objekte der Klasse 'Robot'. Jedes Objekt repräsentiert einen einzigartigen Roboter.\n",
    "robot1 = Robot(\"Wall-E\", \"Sammeln\", \"Pixar\", True, 4)\n",
    "robot2 = Robot(\"BB-8\", \"Erkunden\", \"Star Wars\", True, 9)\n",
    "\n",
    "# Zugriff auf die Eigenschaften der Objekte und Ausgabe dieser Informationen.\n",
    "print(robot1.name)  # Gibt \"Wall-E\" aus\n",
    "print(robot1.company)  # Gibt \"Pixar\" aus\n",
    "\n",
    "print(\"\")  # Druckt eine leere Zeile für bessere Lesbarkeit\n",
    "\n",
    "print(robot2.name)  # Gibt \"BB-8\" aus\n",
    "print(robot2.company)  # Gibt \"Star Wars\" aus\n"
   ]
  },
  {
   "cell_type": "markdown",
   "metadata": {},
   "source": [
    "###Bewertung"
   ]
  },
  {
   "cell_type": "code",
   "execution_count": 2,
   "metadata": {},
   "outputs": [
    {
     "name": "stdout",
     "output_type": "stream",
     "text": [
      "Wall-E ist großartig!\n",
      "BB-8 ist großartig!\n"
     ]
    }
   ],
   "source": [
    "# Überprüfe, ob jeder Roboter \"großartig\" ist, basierend auf seiner Bewertung.\n",
    "if robot1.awesome():\n",
    "    print(f\"{robot1.name} ist großartig!\")  # Ausführung, wenn 'robot1' großartig ist\n",
    "else:\n",
    "    print(f\"{robot1.name} ist nicht so großartig.\")  # Ausführung, wenn 'robot1' nicht großartig ist\n",
    "\n",
    "if robot2.awesome():\n",
    "    print(f\"{robot2.name} ist großartig!\")  # Ausführung, wenn 'robot2' großartig ist\n",
    "else:\n",
    "    print(f\"{robot2.name} ist nicht so großartig.\")  # Ausführung, wenn 'robot2' nicht großartig ist\n"
   ]
  },
  {
   "cell_type": "code",
   "execution_count": null,
   "metadata": {},
   "outputs": [],
   "source": []
  },
  {
   "cell_type": "code",
   "execution_count": null,
   "metadata": {},
   "outputs": [],
   "source": []
  }
 ],
 "metadata": {
  "kernelspec": {
   "display_name": "Python 3 (ipykernel)",
   "language": "python",
   "name": "python3"
  },
  "language_info": {
   "codemirror_mode": {
    "name": "ipython",
    "version": 3
   },
   "file_extension": ".py",
   "mimetype": "text/x-python",
   "name": "python",
   "nbconvert_exporter": "python",
   "pygments_lexer": "ipython3",
   "version": "3.11.1"
  }
 },
 "nbformat": 4,
 "nbformat_minor": 4
}
