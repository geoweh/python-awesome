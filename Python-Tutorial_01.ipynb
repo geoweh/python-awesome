{
 "cells": [
  {
   "cell_type": "markdown",
   "metadata": {},
   "source": [
    "# Basic Python 1"
   ]
  },
  {
   "cell_type": "code",
   "execution_count": 5,
   "metadata": {},
   "outputs": [
    {
     "name": "stdout",
     "output_type": "stream",
     "text": [
      "Test message 2\n",
      "5\n",
      "True\n"
     ]
    }
   ],
   "source": [
    "# Display something on screen\n",
    "\n",
    "print(\"Test message 2\")\n",
    "\n",
    "# It also works with many data types\n",
    "\n",
    "print(5)\n",
    "print(True)"
   ]
  },
  {
   "cell_type": "code",
   "execution_count": 2,
   "metadata": {},
   "outputs": [
    {
     "name": "stdout",
     "output_type": "stream",
     "text": [
      "<class 'int'>\n",
      "<class 'float'>\n"
     ]
    }
   ],
   "source": [
    "# Variables in python\n",
    "\n",
    "new_variable = 5 # In python you don't need to specify the type of variable\n",
    "\n",
    "# Check the type of variable\n",
    "print(type(new_variable))\n",
    "\n",
    "float_variable = 5.0\n",
    "print(type(float_variable))"
   ]
  },
  {
   "cell_type": "markdown",
   "metadata": {},
   "source": [
    "### Math operations\n",
    "\n",
    "- `a + b` - add\n",
    "- `a - b` - substract\n",
    "- `a * b` - multiply\n",
    "- `a / b` - division\n",
    "- `a // b` - floor division\n",
    "- `a % b` - modulus, remainder from division\n",
    "- `a ** b` - power\n",
    "\n"
   ]
  },
  {
   "cell_type": "markdown",
   "metadata": {},
   "source": [
    "## Strings"
   ]
  },
  {
   "cell_type": "code",
   "execution_count": 3,
   "metadata": {},
   "outputs": [
    {
     "name": "stdout",
     "output_type": "stream",
     "text": [
      "My name is Ram\n",
      "and I am awesome\n"
     ]
    }
   ],
   "source": [
    "character_name = \"Ram\"\n",
    "\n",
    "print(\"My name is \" + character_name + \"\\nand I am awesome\") # '\\n' means end-of-line (see below)"
   ]
  },
  {
   "cell_type": "code",
   "execution_count": 14,
   "metadata": {},
   "outputs": [
    {
     "name": "stdout",
     "output_type": "stream",
     "text": [
      "Harry Potter and J K Rowling\n",
      "My favourite Monty Python's movies are Holy Grail and Life of Brain\n"
     ]
    }
   ],
   "source": [
    "# Concatenation\n",
    "\n",
    "phrase = \"Harry Potter\"\n",
    "print(phrase + \" and J K Rowling\")\n",
    "\n",
    "# If you want to print many variables in formatted way it's better to use `format` method\n",
    "\n",
    "print(\"My favourite {0}'s movies are {1} and {2}\".format(\"Monty Python\", \"Holy Grail\", \"Life of Brain\"))\n",
    "\n",
    "# `format` method has also more awesome features"
   ]
  },
  {
   "cell_type": "code",
   "execution_count": 20,
   "metadata": {},
   "outputs": [
    {
     "name": "stdout",
     "output_type": "stream",
     "text": [
      "HARRY POTTER\n",
      "True\n",
      "12\n"
     ]
    }
   ],
   "source": [
    "## Converting to upper case\n",
    "\n",
    "print(phrase.upper())\n",
    "\n",
    "# And check if it so\n",
    "\n",
    "print(phrase.upper().isupper())\n",
    "\n",
    "# Length of the string\n",
    "\n",
    "print(len(phrase)) # You can use `len` method with many data type. But what if you pass an integer inside brackets?"
   ]
  },
  {
   "cell_type": "markdown",
   "metadata": {},
   "source": [
    "If you checked result of len function with an integer you should have seen error message in Python. You should not be scared of this view, it mostly gives you a precise information what was wrong with code. You can see at the same bottom error message that there was a TypeError"
   ]
  },
  {
   "cell_type": "code",
   "execution_count": 4,
   "metadata": {},
   "outputs": [
    {
     "name": "stdout",
     "output_type": "stream",
     "text": [
      "6\n"
     ]
    }
   ],
   "source": [
    "# Print a particular letter\n",
    "# Indexing in python starts with zero\n",
    "\n",
    "print(phrase[0]) # At what index is letter 'e'?\n",
    "\n",
    "## To know where the index is starting from\n",
    "\n",
    "print(phrase.index(\"Pott\"))"
   ]
  },
  {
   "cell_type": "code",
   "execution_count": 5,
   "metadata": {},
   "outputs": [
    {
     "name": "stdout",
     "output_type": "stream",
     "text": [
      "Sorry Potter\n"
     ]
    }
   ],
   "source": [
    "# To replace a letter\n",
    "\n",
    "print(phrase.replace(\"Harry\",\"Sorry\"))"
   ]
  },
  {
   "cell_type": "code",
   "execution_count": 6,
   "metadata": {},
   "outputs": [
    {
     "name": "stdout",
     "output_type": "stream",
     "text": [
      "7.56\n"
     ]
    }
   ],
   "source": [
    "# Adressing numbers \n",
    "\n",
    "print(3.0+4.56)"
   ]
  },
  {
   "cell_type": "code",
   "execution_count": 21,
   "metadata": {},
   "outputs": [
    {
     "name": "stdout",
     "output_type": "stream",
     "text": [
      "<class 'int'>\n",
      "<class 'str'>\n"
     ]
    }
   ],
   "source": [
    "# Convert number to string \n",
    "number = 5\n",
    "print(type(number))\n",
    "print(type(str(number)))"
   ]
  },
  {
   "cell_type": "code",
   "execution_count": 10,
   "metadata": {},
   "outputs": [
    {
     "name": "stdout",
     "output_type": "stream",
     "text": [
      "5 is my favourite number\n"
     ]
    }
   ],
   "source": [
    "# Concatenating \n",
    "print(str(number)+\" is my favourite number\")"
   ]
  },
  {
   "cell_type": "code",
   "execution_count": 1,
   "metadata": {},
   "outputs": [
    {
     "data": {
      "text/plain": [
       "['__doc__',\n",
       " '__file__',\n",
       " '__loader__',\n",
       " '__name__',\n",
       " '__package__',\n",
       " '__spec__',\n",
       " 'acos',\n",
       " 'acosh',\n",
       " 'asin',\n",
       " 'asinh',\n",
       " 'atan',\n",
       " 'atan2',\n",
       " 'atanh',\n",
       " 'ceil',\n",
       " 'copysign',\n",
       " 'cos',\n",
       " 'cosh',\n",
       " 'degrees',\n",
       " 'e',\n",
       " 'erf',\n",
       " 'erfc',\n",
       " 'exp',\n",
       " 'expm1',\n",
       " 'fabs',\n",
       " 'factorial',\n",
       " 'floor',\n",
       " 'fmod',\n",
       " 'frexp',\n",
       " 'fsum',\n",
       " 'gamma',\n",
       " 'gcd',\n",
       " 'hypot',\n",
       " 'inf',\n",
       " 'isclose',\n",
       " 'isfinite',\n",
       " 'isinf',\n",
       " 'isnan',\n",
       " 'ldexp',\n",
       " 'lgamma',\n",
       " 'log',\n",
       " 'log10',\n",
       " 'log1p',\n",
       " 'log2',\n",
       " 'modf',\n",
       " 'nan',\n",
       " 'pi',\n",
       " 'pow',\n",
       " 'radians',\n",
       " 'remainder',\n",
       " 'sin',\n",
       " 'sinh',\n",
       " 'sqrt',\n",
       " 'tan',\n",
       " 'tanh',\n",
       " 'tau',\n",
       " 'trunc']"
      ]
     },
     "execution_count": 1,
     "metadata": {},
     "output_type": "execute_result"
    }
   ],
   "source": [
    "# importing math library\n",
    "import math\n",
    "\n",
    "# Check what's inside of this library\n",
    "dir(math)"
   ]
  },
  {
   "cell_type": "code",
   "execution_count": 22,
   "metadata": {},
   "outputs": [
    {
     "name": "stdout",
     "output_type": "stream",
     "text": [
      "2.16794833886788\n"
     ]
    }
   ],
   "source": [
    "# Taking sqaure root\n",
    "print(math.sqrt(4.7))"
   ]
  },
  {
   "cell_type": "code",
   "execution_count": 23,
   "metadata": {},
   "outputs": [
    {
     "name": "stdout",
     "output_type": "stream",
     "text": [
      "4\n"
     ]
    }
   ],
   "source": [
    "# Rouding off number to its maximum\n",
    "print(math.ceil(3.4))"
   ]
  },
  {
   "cell_type": "code",
   "execution_count": 24,
   "metadata": {},
   "outputs": [
    {
     "name": "stdout",
     "output_type": "stream",
     "text": [
      "3\n"
     ]
    }
   ],
   "source": [
    "# Rounding of number to its minimum\n",
    "print(math.floor(3.4))"
   ]
  }
 ],
 "metadata": {
  "kernelspec": {
   "display_name": "Python 3 (ipykernel)",
   "language": "python",
   "name": "python3"
  },
  "language_info": {
   "codemirror_mode": {
    "name": "ipython",
    "version": 3
   },
   "file_extension": ".py",
   "mimetype": "text/x-python",
   "name": "python",
   "nbconvert_exporter": "python",
   "pygments_lexer": "ipython3",
   "version": "3.11.1"
  }
 },
 "nbformat": 4,
 "nbformat_minor": 4
}
